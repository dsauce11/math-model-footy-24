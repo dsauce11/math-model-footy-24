{
  "cells": [
    {
      "cell_type": "code",
      "execution_count": null,
      "metadata": {
        "collapsed": false
      },
      "outputs": [],
      "source": [
        "%matplotlib inline"
      ]
    },
    {
      "cell_type": "markdown",
      "metadata": {},
      "source": [
        "\n",
        "# Using Statsbomb\n",
        "Getting familiar with Statsbomb data\n"
      ]
    },
    {
      "cell_type": "code",
      "execution_count": null,
      "metadata": {
        "collapsed": false
      },
      "outputs": [],
      "source": [
        "#importing SBopen class from mplsoccer to open the data\n",
        "from mplsoccer import Sbopen\n",
        "# The first thing we have to do is open the data. We use a parser SBopen available in mplsoccer.\n",
        "parser = Sbopen()"
      ]
    },
    {
      "cell_type": "markdown",
      "metadata": {},
      "source": [
        "## Competition data\n",
        "Using method *competition* of the parser we can explore competitions to find the competition we are interested in.\n",
        "The most important information for us is in the *competition_id* (id of competition) and *season_id*.\n",
        "The first one is the key in Statsbomb database of a competition, the second one of a season \n",
        "of this competition (for example WC 2018 would have a different *season_id* than WC 2014, but the same *competition_id*).\n",
        "\n"
      ]
    },
    {
      "cell_type": "code",
      "execution_count": null,
      "metadata": {
        "collapsed": false
      },
      "outputs": [],
      "source": [
        "#opening data using competition method\n",
        "df_competition = parser.competition()\n",
        "#structure of data\n",
        "df_competition.info()"
      ]
    },
    {
      "cell_type": "markdown",
      "metadata": {},
      "source": [
        "## Match data\n",
        "Using method *match* of the parser we can explore matches of a competition to find the match we are interested in.\n",
        "To open it we need to know the *competition_id* (id of competition) and *season_id*.\n",
        "We know that for Women World Cup *competition_id* is 72 and *season_id* is 30\n",
        "From this dataframe for us the most important imformation is provided in *match_id*, \n",
        "*home_team_id* and *home_team_name* and adequately *away_team_id* and *away_team_name*.\n",
        "\n"
      ]
    },
    {
      "cell_type": "code",
      "execution_count": null,
      "metadata": {
        "collapsed": false
      },
      "outputs": [],
      "source": [
        "#opening data using match method\n",
        "df_match = parser.match(competition_id=72, season_id=30)\n",
        "#structure of data\n",
        "df_match.info()"
      ]
    },
    {
      "cell_type": "markdown",
      "metadata": {},
      "source": [
        "## Lineup data\n",
        "To check the lineups we use the *lineup* method. We do it for England Sweden WWC 2019 game - *game_id* is 69301 \n",
        "- you can check that in the df_match. In this dataframe you will find all players who played in this game, their teams \n",
        "and jersey numbers\n",
        "COMMENTED OUT BECAUSE OF CHANGE OF DATA FORMAT.\n",
        "\n"
      ]
    },
    {
      "cell_type": "code",
      "execution_count": null,
      "metadata": {
        "collapsed": false
      },
      "outputs": [],
      "source": [
        "#opening data using match method\n",
        "#df_lineup = parser.lineup(69301)\n",
        "#structure of data\n",
        "#df_lineup.info()"
      ]
    },
    {
      "cell_type": "markdown",
      "metadata": {},
      "source": [
        "## Event data\n",
        "The Statsbomb data that we will use the most during the course is event data. \n",
        "Knowing *game_id* you can open all the events that occured on the pitch\n",
        "In the event dataframe you will find events with additional information, we will mostly use this dataframe.\n",
        "Tactics dataframe provides information about player position on the pitch. 'Related' dataframe provides information\n",
        "on events that were related to each other - for example ball pass and pressure applied. *df_freeze* consists of freezed\n",
        "frames with player position in the moment of shots. We will learn more about tracking data later in the course.\n",
        "Below, an example of event data is presented.\n",
        "\n"
      ]
    },
    {
      "cell_type": "code",
      "execution_count": null,
      "metadata": {
        "collapsed": false
      },
      "outputs": [],
      "source": [
        "#opening data\n",
        "df_event, df_related, df_freeze, df_tactics = parser.event(69301)\n",
        "#if you want only event data you can use \n",
        "#df_event = parser.event(69301)[0]\n",
        "#structure of data\n",
        "df_event.info()"
      ]
    },
    {
      "cell_type": "markdown",
      "metadata": {},
      "source": [
        "## 360 data\n",
        "Statsbomb offers 360 data which track not only location of an event but also players' location. To open them we need\n",
        "an id of game. Later, we will also need id of the event. In the *df_frame* we find information on players' position (but only if teammate, not all information)\n",
        "and in *df_visible* it is provided which part of the pitch was tracked during an event.\n",
        "\n"
      ]
    },
    {
      "cell_type": "code",
      "execution_count": null,
      "metadata": {
        "collapsed": false
      },
      "outputs": [],
      "source": [
        "df_frame, df_visible = parser.frame(3788741)\n",
        "\n",
        "# exploring the data\n",
        "df_frame.info()"
      ]
    },
    {
      "cell_type": "markdown",
      "metadata": {},
      "source": [
        "## Before you start\n",
        "Run these lines in Spyder/Jupyter notebook and explore dataframes \n",
        "to get more familiar before you start working on the course.\n"
      ]
    }
  ],
  "metadata": {
    "kernelspec": {
      "display_name": "math-model-footy-24",
      "language": "python",
      "name": "math-model-footy-24"
    }
  },
  "nbformat": 4,
  "nbformat_minor": 0
}
